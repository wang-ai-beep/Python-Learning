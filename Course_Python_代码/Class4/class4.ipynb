{
 "cells": [
  {
   "cell_type": "code",
   "execution_count": 9,
   "metadata": {},
   "outputs": [],
   "source": [
    "# 寻找max [2,6,7,4,9,5,1,0,3,8]\n",
    "\n",
    "def homework3(number):\n",
    "        import time\n",
    "        time1=time.time()\n",
    "        list_len=len(number)\n",
    "        temp=0\n",
    "        for i in range(list_len):\n",
    "            if temp<number[i]:\n",
    "                temp=number[i]\n",
    "        time.sleep(1)\n",
    "        file=open(\"hw3.txt\",\"w\")\n",
    "        file.write(str(temp))\n",
    "        file.close()\n",
    "        \n",
    "        time2=time.time()\n",
    "        time_diff=time2-time1\n",
    "        \n",
    "        \n",
    "        return temp, time_diff\n",
    "            \n",
    "\n",
    "\n",
    "\n"
   ]
  },
  {
   "cell_type": "code",
   "execution_count": 10,
   "metadata": {},
   "outputs": [
    {
     "name": "stdout",
     "output_type": "stream",
     "text": [
      "99\n",
      "1.0004680156707764\n"
     ]
    }
   ],
   "source": [
    "number=[2,6,7,4,99,5,1,0,3,8]\n",
    "\n",
    "max_num, time_diff=homework3(number)\n",
    "\n",
    "print(max_num)\n",
    "print(time_diff)"
   ]
  },
  {
   "cell_type": "code",
   "execution_count": null,
   "metadata": {},
   "outputs": [],
   "source": []
  },
  {
   "cell_type": "code",
   "execution_count": null,
   "metadata": {},
   "outputs": [],
   "source": []
  }
 ],
 "metadata": {
  "kernelspec": {
   "display_name": "Python 3",
   "language": "python",
   "name": "python3"
  },
  "language_info": {
   "codemirror_mode": {
    "name": "ipython",
    "version": 3
   },
   "file_extension": ".py",
   "mimetype": "text/x-python",
   "name": "python",
   "nbconvert_exporter": "python",
   "pygments_lexer": "ipython3",
   "version": "3.8.5"
  }
 },
 "nbformat": 4,
 "nbformat_minor": 4
}
